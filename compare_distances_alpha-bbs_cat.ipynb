{
 "cells": [
  {
   "cell_type": "code",
   "execution_count": 1,
   "id": "e52daa61-4391-4d78-8305-b7819bacae75",
   "metadata": {},
   "outputs": [],
   "source": [
    "import pandas as pd\n",
    "import os"
   ]
  },
  {
   "cell_type": "code",
   "execution_count": 53,
   "id": "bda533d1-7c2a-43a8-b73f-f16497dafc30",
   "metadata": {},
   "outputs": [],
   "source": [
    "pbCycles = {\"pbCycle\": [\"0-\", \"0.05-\", \"0.1-\", \"0.15-\", \"0.2-\", \"0.25-\", \"0.3-\", \"0.35-\", \"0.4-\",\n",
    "                 \"0.45-\", \"0.5-\", \"0.55-\", \"0.6-\", \"0.65-\", \"0.7-\", \"0.75-\", \"0.8-\", \"0.85-\", \"0.9-\"]}\n",
    "pbAtts = {\"pbAtt\": [\"0.15-\", \"0.2-\", \"0.25-\", \"0.3-\", \"0.35-\", \"0.4-\", \"0.45-\", \"0.5-\", \"0.55-\",\n",
    "                    \"0.6-\", \"0.65-\", \"0.7-\", \"0.75-\", \"0.8-\", \"0.85-\", \"0.9-\", \"0.95-\"]}\n",
    "featuresWS_10 = {\"pbCycle\": [\"0.25-\", \"0.5-\", \"0.75-\"], \"beta\": [\"0-\", \"0.25-\", \"0.5-\", \"0.75-\", \"1-\"], \"baseDegree\": [\"2-\",\"4-\",\"6-\",\"8-\"]}\n",
    "featuresWS_20 = {\"pbCycle\": [\"0.25-\", \"0.5-\", \"0.75-\"], \"beta\": [\"0-\", \"0.25-\", \"0.5-\", \"0.75-\", \"1-\"], \"baseDegree\": [\"4-\",\"8-\",\"12-\",\"16-\"]}\n",
    "featuresWS_100 = {\"pbCycle\": [\"0.25-\", \"0.5-\", \"0.75-\"], \"beta\": [\"0-\", \"0.25-\", \"0.5-\", \"0.75-\", \"1-\"], \"baseDegree\": [\"20-\",\"40-\",\"60-\",\"80-\"]}\n",
    "\n",
    "alphas = [\"0_5\", \"1_0\", \"5_0\", \"10_0\"]\n",
    "\n",
    "features = {\n",
    "    \"BA\": {\n",
    "        \"numArg\": {\n",
    "            \"10\": pbCycles,\n",
    "            \"20\": pbCycles,\n",
    "            \"100\": pbCycles,\n",
    "        },\n",
    "    },\n",
    "    \"ER\": {\n",
    "        \"numArg\": {\n",
    "            \"10\": pbAtts,\n",
    "            \"20\": pbAtts,\n",
    "            \"100\": pbAtts,\n",
    "        },\n",
    "    },\n",
    "    \"WS\": {\n",
    "        \"numArg\": {\n",
    "            \"10\": featuresWS_10,\n",
    "            \"20\": featuresWS_20,\n",
    "            \"100\": featuresWS_100,\n",
    "        },\n",
    "    },\n",
    "}"
   ]
  },
  {
   "cell_type": "code",
   "execution_count": 54,
   "id": "d9742173-4d54-45cc-ae05-04512e29023a",
   "metadata": {},
   "outputs": [],
   "source": [
    "for type_graph in features:\n",
    "    dirname = f\"results/{type_graph}\"\n",
    "    if os.path.isdir(dirname):\n",
    "        for num_args in features[type_graph]:\n",
    "            for num_arg in features[type_graph][num_args]:\n",
    "                files = [f\"{dirname}/{num_arg}/{file}\" for file in os.listdir(f\"{dirname}/{num_arg}\")]\n",
    "                for feature in features[type_graph][num_args][num_arg]:\n",
    "                    values = features[type_graph][num_args][num_arg][feature]\n",
    "                    df_res = pd.DataFrame(columns=[value.replace(\"-\", \"\") for value in values],\n",
    "                                          index=[alpha.replace(\"_\", \".\") for alpha in alphas])\n",
    "                    for alpha in alphas:\n",
    "                        for file in files:\n",
    "                            if alpha in file:\n",
    "                                df = pd.read_csv(file)\n",
    "                                zeros_prop = {value.replace(\"-\", \"\"): None for value in values}\n",
    "                                for value in values:\n",
    "                                    restricted_df = df[\n",
    "                                        (df[\"filename\"].str.contains(f\"{num_args}{num_arg}\")) &\n",
    "                                        (df[\"filename\"].str.contains(f\"{feature}{value}\"))\n",
    "                                    ]\n",
    "                                    zeros_prop[value.replace(\"-\", \"\")] = restricted_df[restricted_df.distance==0].shape[0]/restricted_df.shape[0]\n",
    "                                df_res.loc[alpha.replace(\"_\", \".\")] = pd.Series(zeros_prop)\n",
    "                    df_res.to_csv(f\"results/zeros_prop/{type_graph}_{num_arg}_{feature}.csv\", index=True) "
   ]
  }
 ],
 "metadata": {
  "kernelspec": {
   "display_name": "Python 3 (ipykernel)",
   "language": "python",
   "name": "python3"
  },
  "language_info": {
   "codemirror_mode": {
    "name": "ipython",
    "version": 3
   },
   "file_extension": ".py",
   "mimetype": "text/x-python",
   "name": "python",
   "nbconvert_exporter": "python",
   "pygments_lexer": "ipython3",
   "version": "3.13.6"
  }
 },
 "nbformat": 4,
 "nbformat_minor": 5
}
